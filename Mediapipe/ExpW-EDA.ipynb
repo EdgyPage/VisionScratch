{
 "cells": [
  {
   "cell_type": "code",
   "execution_count": 2,
   "metadata": {},
   "outputs": [],
   "source": [
    "import pandas as pd"
   ]
  },
  {
   "cell_type": "code",
   "execution_count": 7,
   "metadata": {},
   "outputs": [],
   "source": [
    "expressionDic = {\n",
    "\"0\": \"angry\",\n",
    "\"1\" : \"disgust\",\n",
    "\"2\" : \"fear\",\n",
    "\"3\" : \"happy\",\n",
    "\"4\" : \"sad\",\n",
    "\"5\" : \"surprise\",\n",
    "\"6\" : \"neutral\"}\n",
    "\n",
    "labelListPath = r\"C:\\Users\\myfir\\My Drive\\Skyline\\ExpW\\data\\data\\label\\label.lst\"\n",
    "headers = [\"image_name\", \"face_id_in_image\", \"face_box_top\" ,\"face_box_left\" ,\"face_box_right\" ,\"face_box_bottom\" ,\"face_box_confidence\" , \"expression_label\"]\n",
    "\n",
    "data = pd.read_csv(labelListPath, delim_whitespace=True, header= None, names= headers, dtype= str)\n",
    "data['expression_label'] = data['expression_label'].replace(expressionDic)\n",
    "\n",
    "data = data[['image_name', 'expression_label']]"
   ]
  }
 ],
 "metadata": {
  "kernelspec": {
   "display_name": "Python 3",
   "language": "python",
   "name": "python3"
  },
  "language_info": {
   "codemirror_mode": {
    "name": "ipython",
    "version": 3
   },
   "file_extension": ".py",
   "mimetype": "text/x-python",
   "name": "python",
   "nbconvert_exporter": "python",
   "pygments_lexer": "ipython3",
   "version": "3.11.4"
  }
 },
 "nbformat": 4,
 "nbformat_minor": 2
}
